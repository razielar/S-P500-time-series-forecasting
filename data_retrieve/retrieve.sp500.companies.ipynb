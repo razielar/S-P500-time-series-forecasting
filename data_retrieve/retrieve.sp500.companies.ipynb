{
 "cells": [
  {
   "cell_type": "markdown",
   "id": "04f8c281-8171-49cc-b0fe-acc558a41f92",
   "metadata": {},
   "source": [
    "# Retrieve the companies that are part of S&P 500\n",
    "March 10th 2022  \n",
    "S&P companies= from https://en.wikipedia.org/wiki/List_of_S%26P_500_companies  \n",
    "Sectors= from https://en.wikipedia.org/wiki/Global_Industry_Classification_Standard"
   ]
  },
  {
   "cell_type": "code",
   "execution_count": 1,
   "id": "20451aa3-ba7f-4b2d-952f-df3b7329287f",
   "metadata": {},
   "outputs": [
    {
     "name": "stdout",
     "output_type": "stream",
     "text": [
      "/home/razielar/miniconda3/envs/time-series/bin/python \n",
      " /home/razielar/Documents/git_rep/Machine_learning/time_series_forecasting/SP-500-time-series-forecasting/data_retrieve\n"
     ]
    }
   ],
   "source": [
    "import sys, os\n",
    "print(sys.executable,\"\\n\",os.getcwd())\n",
    "from datetime import datetime\n",
    "import re\n",
    "import shutil # high-level file operation\n",
    "import wikipedia as wp\n",
    "from IPython.display import display\n",
    "import numpy as np\n",
    "import pandas as pd\n",
    "import seaborn as sns\n",
    "import matplotlib.pyplot as plt\n",
    "from collections import Counter"
   ]
  },
  {
   "cell_type": "code",
   "execution_count": 2,
   "id": "3c22d741-ef7e-452e-93ef-3d6cc1ac20c9",
   "metadata": {},
   "outputs": [],
   "source": [
    "# Configurations\n",
    "import src.plotSetttigs"
   ]
  },
  {
   "cell_type": "markdown",
   "id": "eb0c4c6d-94c6-4633-a686-c0d9f155d788",
   "metadata": {},
   "source": [
    "## 1) Start"
   ]
  },
  {
   "cell_type": "code",
   "execution_count": 3,
   "id": "9049bbd4-2c1e-42fa-890d-1a8d30ff9c2b",
   "metadata": {},
   "outputs": [],
   "source": [
    "def get_table(title, match, use_cache=False):\n",
    "    \"\"\"\n",
    "    Function to download the lis of the 500 companies inside S&P500\n",
    "    Arguments:\n",
    "    title: (str) => title of the Wikipedia page\n",
    "    filename: (str) => name of the output filename\n",
    "    match: (str) => first colum name\n",
    "    \"\"\"\n",
    "    if use_cache and os.path.isfile(filename):\n",
    "        pass\n",
    "    else:\n",
    "        html = wp.page(title).html()\n",
    "        df = pd.read_html(html, header=0, match=match)[0]\n",
    "    return df"
   ]
  },
  {
   "cell_type": "code",
   "execution_count": 5,
   "id": "a4d43f18-73c8-4215-bc5f-2c4a62d48a12",
   "metadata": {},
   "outputs": [
    {
     "name": "stdout",
     "output_type": "stream",
     "text": [
      "CPU times: user 377 ms, sys: 13.3 ms, total: 390 ms\n",
      "Wall time: 5.09 s\n"
     ]
    }
   ],
   "source": [
    "%%time\n",
    "title = 'List of S&P 500 companies'\n",
    "match= 'Symbol'\n",
    "\n",
    "sp500 = get_table(title, match='Symbol')"
   ]
  },
  {
   "cell_type": "markdown",
   "id": "385c40d1-e04f-4142-8322-195c8cb911fb",
   "metadata": {},
   "source": [
    "* SEC: US Securities and Exchange Commission\n",
    "* GICS: Global Industry Classification Standard\n",
    "* CIK: Central Index Key; number given to a company by the SEC"
   ]
  },
  {
   "cell_type": "code",
   "execution_count": 6,
   "id": "0c93a2f3-154b-4733-b735-9229a71467a5",
   "metadata": {},
   "outputs": [],
   "source": [
    "sp500.columns= sp500.columns.str.lower()\n",
    "sp500.drop(columns= 'sec filings', inplace= True)\n",
    "sp500.rename(columns= {\"symbol\":\"ticker\", \"security\":\"company\", \"gics sector\": \"gics_sector\", \n",
    "                       \"gics sub-industry\": \"gics_sub_industry\", \"headquarters location\": \"headquarters_location\",\n",
    "                       \"date first added\": \"date_first_added\"}, inplace= True)\n",
    "# sp500.to_csv(data_path+filename, header=True, index=False, encoding='utf-8')"
   ]
  },
  {
   "cell_type": "code",
   "execution_count": 7,
   "id": "392a237a-d753-45be-856b-b3b3c0b579a9",
   "metadata": {},
   "outputs": [
    {
     "data": {
      "text/html": [
       "<div>\n",
       "<style scoped>\n",
       "    .dataframe tbody tr th:only-of-type {\n",
       "        vertical-align: middle;\n",
       "    }\n",
       "\n",
       "    .dataframe tbody tr th {\n",
       "        vertical-align: top;\n",
       "    }\n",
       "\n",
       "    .dataframe thead th {\n",
       "        text-align: right;\n",
       "    }\n",
       "</style>\n",
       "<table border=\"1\" class=\"dataframe\">\n",
       "  <thead>\n",
       "    <tr style=\"text-align: right;\">\n",
       "      <th></th>\n",
       "      <th>ticker</th>\n",
       "      <th>company</th>\n",
       "      <th>gics_sector</th>\n",
       "      <th>gics_sub_industry</th>\n",
       "      <th>headquarters_location</th>\n",
       "      <th>date_first_added</th>\n",
       "      <th>cik</th>\n",
       "      <th>founded</th>\n",
       "    </tr>\n",
       "  </thead>\n",
       "  <tbody>\n",
       "    <tr>\n",
       "      <th>0</th>\n",
       "      <td>MMM</td>\n",
       "      <td>3M</td>\n",
       "      <td>Industrials</td>\n",
       "      <td>Industrial Conglomerates</td>\n",
       "      <td>Saint Paul, Minnesota</td>\n",
       "      <td>1976-08-09</td>\n",
       "      <td>66740</td>\n",
       "      <td>1902</td>\n",
       "    </tr>\n",
       "    <tr>\n",
       "      <th>1</th>\n",
       "      <td>AOS</td>\n",
       "      <td>A. O. Smith</td>\n",
       "      <td>Industrials</td>\n",
       "      <td>Building Products</td>\n",
       "      <td>Milwaukee, Wisconsin</td>\n",
       "      <td>2017-07-26</td>\n",
       "      <td>91142</td>\n",
       "      <td>1916</td>\n",
       "    </tr>\n",
       "    <tr>\n",
       "      <th>2</th>\n",
       "      <td>ABT</td>\n",
       "      <td>Abbott</td>\n",
       "      <td>Health Care</td>\n",
       "      <td>Health Care Equipment</td>\n",
       "      <td>North Chicago, Illinois</td>\n",
       "      <td>1964-03-31</td>\n",
       "      <td>1800</td>\n",
       "      <td>1888</td>\n",
       "    </tr>\n",
       "    <tr>\n",
       "      <th>3</th>\n",
       "      <td>ABBV</td>\n",
       "      <td>AbbVie</td>\n",
       "      <td>Health Care</td>\n",
       "      <td>Pharmaceuticals</td>\n",
       "      <td>North Chicago, Illinois</td>\n",
       "      <td>2012-12-31</td>\n",
       "      <td>1551152</td>\n",
       "      <td>2013 (1888)</td>\n",
       "    </tr>\n",
       "    <tr>\n",
       "      <th>4</th>\n",
       "      <td>ABMD</td>\n",
       "      <td>Abiomed</td>\n",
       "      <td>Health Care</td>\n",
       "      <td>Health Care Equipment</td>\n",
       "      <td>Danvers, Massachusetts</td>\n",
       "      <td>2018-05-31</td>\n",
       "      <td>815094</td>\n",
       "      <td>1981</td>\n",
       "    </tr>\n",
       "  </tbody>\n",
       "</table>\n",
       "</div>"
      ],
      "text/plain": [
       "  ticker      company  gics_sector         gics_sub_industry  \\\n",
       "0    MMM           3M  Industrials  Industrial Conglomerates   \n",
       "1    AOS  A. O. Smith  Industrials         Building Products   \n",
       "2    ABT       Abbott  Health Care     Health Care Equipment   \n",
       "3   ABBV       AbbVie  Health Care           Pharmaceuticals   \n",
       "4   ABMD      Abiomed  Health Care     Health Care Equipment   \n",
       "\n",
       "     headquarters_location date_first_added      cik      founded  \n",
       "0    Saint Paul, Minnesota       1976-08-09    66740         1902  \n",
       "1     Milwaukee, Wisconsin       2017-07-26    91142         1916  \n",
       "2  North Chicago, Illinois       1964-03-31     1800         1888  \n",
       "3  North Chicago, Illinois       2012-12-31  1551152  2013 (1888)  \n",
       "4   Danvers, Massachusetts       2018-05-31   815094         1981  "
      ]
     },
     "execution_count": 7,
     "metadata": {},
     "output_type": "execute_result"
    }
   ],
   "source": [
    "sp500.head()"
   ]
  },
  {
   "cell_type": "code",
   "execution_count": 63,
   "id": "bcdc32d0-8b9a-4c07-a675-27667ae96bfe",
   "metadata": {},
   "outputs": [
    {
     "data": {
      "image/png": "[encoded data removed]",
      "text/plain": [
       "<Figure size 1296x360 with 1 Axes>"
      ]
     },
     "metadata": {
      "needs_background": "light"
     },
     "output_type": "display_data"
    }
   ],
   "source": [
    "image_dir= \"../plots/eda/\"\n",
    "plot_name= \"sp500.sectors.pdf\"\n",
    "\n",
    "sns.countplot(x= \"gics_sector\", data= sp500, \n",
    "              order= sp500['gics_sector'].value_counts().index)\n",
    "plt.ylabel(\"Count\")\n",
    "plt.xlabel(\"GICS Sectors\")\n",
    "plt.title(\"S&P 500: {} Sectors\".format(len(Counter(sp500['gics_sector']))))\n",
    "plt.xticks(rotation=45, horizontalalignment='right')\n",
    "plt.grid(alpha= 0.5)\n",
    "\n",
    "plt.savefig(image_dir+plot_name)\n",
    "\n",
    "plt.show()"
   ]
  },
  {
   "cell_type": "markdown",
   "id": "d407c964-da56-4a4a-9c60-c8e3bb60815b",
   "metadata": {},
   "source": [
    "## Get Sector df for deeper analysis"
   ]
  },
  {
   "cell_type": "code",
   "execution_count": 42,
   "id": "45114622-9bfb-4172-8187-5adff986ac34",
   "metadata": {},
   "outputs": [],
   "source": [
    "sector_title= 'Global Industry Classification Standard'\n",
    "sector_match= 'Sector'\n",
    "sector_df= get_table(title= sector_title, match= sector_match)"
   ]
  },
  {
   "cell_type": "code",
   "execution_count": 43,
   "id": "7c1b95eb-6143-406e-b3ac-34f9a0634612",
   "metadata": {},
   "outputs": [],
   "source": [
    "sector_df.columns= sector_df.columns.str.lower()\n",
    "sector_df.drop(columns= ['sector', 'industry group', 'industry', 'sub-industry'], inplace= True)\n",
    "sector_df.columns= sector_df.columns.str.replace(\".1\", \"\", regex= True)\n",
    "sector_df.rename(columns= {\"sector\": \"gics_sector\", \"industry group\": \"industry_group\", \n",
    "                           \"sub-industry\": \"gics_sub_industry\"}, inplace= True)"
   ]
  },
  {
   "cell_type": "code",
   "execution_count": 35,
   "id": "bd7b4b7b-5162-4636-b99d-0a9c2e3edae1",
   "metadata": {},
   "outputs": [],
   "source": [
    "pd.set_option('display.max_rows', 600)\n",
    "# sector_df\n",
    "# sector_df.sort_values(by= ['sector'])\n",
    "# df.sort_values(by=['col1'])"
   ]
  },
  {
   "cell_type": "markdown",
   "id": "f9fcbc8e-b135-4e65-96c7-9c7df5227486",
   "metadata": {},
   "source": [
    "## Merge DFs"
   ]
  },
  {
   "cell_type": "code",
   "execution_count": 45,
   "id": "efb76e82-68bf-469c-bc84-3eb6c824eec6",
   "metadata": {},
   "outputs": [
    {
     "data": {
      "text/html": [
       "<div>\n",
       "<style scoped>\n",
       "    .dataframe tbody tr th:only-of-type {\n",
       "        vertical-align: middle;\n",
       "    }\n",
       "\n",
       "    .dataframe tbody tr th {\n",
       "        vertical-align: top;\n",
       "    }\n",
       "\n",
       "    .dataframe thead th {\n",
       "        text-align: right;\n",
       "    }\n",
       "</style>\n",
       "<table border=\"1\" class=\"dataframe\">\n",
       "  <thead>\n",
       "    <tr style=\"text-align: right;\">\n",
       "      <th></th>\n",
       "      <th>ticker</th>\n",
       "      <th>company</th>\n",
       "      <th>gics_sector</th>\n",
       "      <th>gics_sub_industry</th>\n",
       "      <th>headquarters_location</th>\n",
       "      <th>date_first_added</th>\n",
       "      <th>cik</th>\n",
       "      <th>founded</th>\n",
       "    </tr>\n",
       "  </thead>\n",
       "  <tbody>\n",
       "    <tr>\n",
       "      <th>0</th>\n",
       "      <td>MMM</td>\n",
       "      <td>3M</td>\n",
       "      <td>Industrials</td>\n",
       "      <td>Industrial Conglomerates</td>\n",
       "      <td>Saint Paul, Minnesota</td>\n",
       "      <td>1976-08-09</td>\n",
       "      <td>66740</td>\n",
       "      <td>1902</td>\n",
       "    </tr>\n",
       "    <tr>\n",
       "      <th>1</th>\n",
       "      <td>AOS</td>\n",
       "      <td>A. O. Smith</td>\n",
       "      <td>Industrials</td>\n",
       "      <td>Building Products</td>\n",
       "      <td>Milwaukee, Wisconsin</td>\n",
       "      <td>2017-07-26</td>\n",
       "      <td>91142</td>\n",
       "      <td>1916</td>\n",
       "    </tr>\n",
       "    <tr>\n",
       "      <th>2</th>\n",
       "      <td>ABT</td>\n",
       "      <td>Abbott</td>\n",
       "      <td>Health Care</td>\n",
       "      <td>Health Care Equipment</td>\n",
       "      <td>North Chicago, Illinois</td>\n",
       "      <td>1964-03-31</td>\n",
       "      <td>1800</td>\n",
       "      <td>1888</td>\n",
       "    </tr>\n",
       "    <tr>\n",
       "      <th>3</th>\n",
       "      <td>ABBV</td>\n",
       "      <td>AbbVie</td>\n",
       "      <td>Health Care</td>\n",
       "      <td>Pharmaceuticals</td>\n",
       "      <td>North Chicago, Illinois</td>\n",
       "      <td>2012-12-31</td>\n",
       "      <td>1551152</td>\n",
       "      <td>2013 (1888)</td>\n",
       "    </tr>\n",
       "    <tr>\n",
       "      <th>4</th>\n",
       "      <td>ABMD</td>\n",
       "      <td>Abiomed</td>\n",
       "      <td>Health Care</td>\n",
       "      <td>Health Care Equipment</td>\n",
       "      <td>Danvers, Massachusetts</td>\n",
       "      <td>2018-05-31</td>\n",
       "      <td>815094</td>\n",
       "      <td>1981</td>\n",
       "    </tr>\n",
       "  </tbody>\n",
       "</table>\n",
       "</div>"
      ],
      "text/plain": [
       "  ticker      company  gics_sector         gics_sub_industry  \\\n",
       "0    MMM           3M  Industrials  Industrial Conglomerates   \n",
       "1    AOS  A. O. Smith  Industrials         Building Products   \n",
       "2    ABT       Abbott  Health Care     Health Care Equipment   \n",
       "3   ABBV       AbbVie  Health Care           Pharmaceuticals   \n",
       "4   ABMD      Abiomed  Health Care     Health Care Equipment   \n",
       "\n",
       "     headquarters_location date_first_added      cik      founded  \n",
       "0    Saint Paul, Minnesota       1976-08-09    66740         1902  \n",
       "1     Milwaukee, Wisconsin       2017-07-26    91142         1916  \n",
       "2  North Chicago, Illinois       1964-03-31     1800         1888  \n",
       "3  North Chicago, Illinois       2012-12-31  1551152  2013 (1888)  \n",
       "4   Danvers, Massachusetts       2018-05-31   815094         1981  "
      ]
     },
     "metadata": {},
     "output_type": "display_data"
    },
    {
     "data": {
      "text/html": [
       "<div>\n",
       "<style scoped>\n",
       "    .dataframe tbody tr th:only-of-type {\n",
       "        vertical-align: middle;\n",
       "    }\n",
       "\n",
       "    .dataframe tbody tr th {\n",
       "        vertical-align: top;\n",
       "    }\n",
       "\n",
       "    .dataframe thead th {\n",
       "        text-align: right;\n",
       "    }\n",
       "</style>\n",
       "<table border=\"1\" class=\"dataframe\">\n",
       "  <thead>\n",
       "    <tr style=\"text-align: right;\">\n",
       "      <th></th>\n",
       "      <th>gics_sector</th>\n",
       "      <th>industry_group</th>\n",
       "      <th>industry</th>\n",
       "      <th>gics_sub_industry</th>\n",
       "    </tr>\n",
       "  </thead>\n",
       "  <tbody>\n",
       "    <tr>\n",
       "      <th>0</th>\n",
       "      <td>Energy</td>\n",
       "      <td>Energy</td>\n",
       "      <td>Energy Equipment &amp; Services</td>\n",
       "      <td>Oil &amp; Gas Drilling</td>\n",
       "    </tr>\n",
       "    <tr>\n",
       "      <th>1</th>\n",
       "      <td>Energy</td>\n",
       "      <td>Energy</td>\n",
       "      <td>Energy Equipment &amp; Services</td>\n",
       "      <td>Oil &amp; Gas Equipment &amp; Services</td>\n",
       "    </tr>\n",
       "    <tr>\n",
       "      <th>2</th>\n",
       "      <td>Energy</td>\n",
       "      <td>Energy</td>\n",
       "      <td>Oil, Gas &amp; Consumable Fuels</td>\n",
       "      <td>Integrated Oil &amp; Gas</td>\n",
       "    </tr>\n",
       "    <tr>\n",
       "      <th>3</th>\n",
       "      <td>Energy</td>\n",
       "      <td>Energy</td>\n",
       "      <td>Oil, Gas &amp; Consumable Fuels</td>\n",
       "      <td>Oil &amp; Gas Exploration &amp; Production</td>\n",
       "    </tr>\n",
       "    <tr>\n",
       "      <th>4</th>\n",
       "      <td>Energy</td>\n",
       "      <td>Energy</td>\n",
       "      <td>Oil, Gas &amp; Consumable Fuels</td>\n",
       "      <td>Oil &amp; Gas Refining &amp; Marketing</td>\n",
       "    </tr>\n",
       "  </tbody>\n",
       "</table>\n",
       "</div>"
      ],
      "text/plain": [
       "  gics_sector industry_group                     industry  \\\n",
       "0      Energy         Energy  Energy Equipment & Services   \n",
       "1      Energy         Energy  Energy Equipment & Services   \n",
       "2      Energy         Energy  Oil, Gas & Consumable Fuels   \n",
       "3      Energy         Energy  Oil, Gas & Consumable Fuels   \n",
       "4      Energy         Energy  Oil, Gas & Consumable Fuels   \n",
       "\n",
       "                    gics_sub_industry  \n",
       "0                  Oil & Gas Drilling  \n",
       "1      Oil & Gas Equipment & Services  \n",
       "2                Integrated Oil & Gas  \n",
       "3  Oil & Gas Exploration & Production  \n",
       "4      Oil & Gas Refining & Marketing  "
      ]
     },
     "execution_count": 45,
     "metadata": {},
     "output_type": "execute_result"
    }
   ],
   "source": [
    "# pd.merge(sp500, sector_df)\n",
    "display(sp500.head())\n",
    "sector_df.head()"
   ]
  },
  {
   "cell_type": "code",
   "execution_count": 56,
   "id": "87ba58cf-4637-4c4d-96e4-d959cfd6cd29",
   "metadata": {},
   "outputs": [],
   "source": [
    "merged_df= pd.merge(left= sp500, right= sector_df)\n",
    "merged_df= merged_df[['ticker', 'cik', 'company', 'gics_sector', 'industry_group', 'industry', 'gics_sub_industry',\n",
    "                      'headquarters_location', 'founded' ,'date_first_added']]"
   ]
  },
  {
   "cell_type": "code",
   "execution_count": 59,
   "id": "0d8df89c-0175-423a-879b-78eefacdccb1",
   "metadata": {},
   "outputs": [],
   "source": [
    "data_path= '../data/'\n",
    "filename = 'sp500.companies.csv'\n",
    "merged_df.to_csv(data_path+filename, header=True, index=False, encoding='utf-8')"
   ]
  },
  {
   "cell_type": "code",
   "execution_count": 62,
   "id": "d83b56da-f601-4206-ba62-c70c81335402",
   "metadata": {},
   "outputs": [],
   "source": [
    "# sns.distplot"
   ]
  },
  {
   "cell_type": "code",
   "execution_count": null,
   "id": "89002534-4407-4965-af0b-4e735fd98268",
   "metadata": {},
   "outputs": [],
   "source": []
  },
  {
   "cell_type": "code",
   "execution_count": null,
   "id": "f94cab13-1e17-4bae-8fda-46b0ad5af712",
   "metadata": {},
   "outputs": [],
   "source": []
  },
  {
   "cell_type": "code",
   "execution_count": null,
   "id": "3a0a7f31-9bf5-4a52-b341-7b2e4055dd46",
   "metadata": {},
   "outputs": [],
   "source": []
  }
 ],
 "metadata": {
  "kernelspec": {
   "display_name": "Python 3 (ipykernel)",
   "language": "python",
   "name": "python3"
  },
  "language_info": {
   "codemirror_mode": {
    "name": "ipython",
    "version": 3
   },
   "file_extension": ".py",
   "mimetype": "text/x-python",
   "name": "python",
   "nbconvert_exporter": "python",
   "pygments_lexer": "ipython3",
   "version": "3.8.12"
  }
 },
 "nbformat": 4,
 "nbformat_minor": 5
}
